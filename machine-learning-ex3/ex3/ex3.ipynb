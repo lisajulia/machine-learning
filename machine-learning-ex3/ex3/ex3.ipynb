{
 "cells": [
  {
   "cell_type": "code",
   "execution_count": 36,
   "metadata": {
    "collapsed": true
   },
   "outputs": [
    {
     "name": "stderr",
     "output_type": "stream",
     "text": [
      "[Parallel(n_jobs=1)]: Using backend SequentialBackend with 1 concurrent workers.\n",
      " This problem is unconstrained.\n"
     ]
    },
    {
     "name": "stdout",
     "output_type": "stream",
     "text": [
      "0.00018260\n",
      "Epoch 920, change: 0.00018245\n",
      "Epoch 921, change: 0.00018208\n",
      "Epoch 922, change: 0.00018206\n",
      "Epoch 923, change: 0.00018190\n",
      "Epoch 924, change: 0.00018168\n",
      "Epoch 925, change: 0.00018153\n",
      "Epoch 926, change: 0.00018146\n",
      "Epoch 927, change: 0.00018145\n",
      "Epoch 928, change: 0.00018103\n",
      "Epoch 929, change: 0.00018093\n",
      "Epoch 930, change: 0.00018065\n",
      "Epoch 931, change: 0.00018069\n",
      "Epoch 932, change: 0.00018061\n",
      "Epoch 933, change: 0.00018052\n",
      "Epoch 934, change: 0.00018000\n",
      "Epoch 935, change: 0.00017998\n",
      "Epoch 936, change: 0.00017969\n",
      "Epoch 937, change: 0.00017979\n",
      "Epoch 938, change: 0.00017951\n",
      "Epoch 939, change: 0.00017931\n",
      "Epoch 940, change: 0.00017912\n",
      "Epoch 941, change: 0.00017897\n",
      "Epoch 942, change: 0.00017891\n",
      "Epoch 943, change: 0.00017870\n",
      "Epoch 944, change: 0.00017852\n",
      "Epoch 945, change: 0.00017841\n",
      "Epoch 946, change: 0.00017829\n",
      "Epoch 947, change: 0.00017812\n",
      "Epoch 948, change: 0.00017811\n",
      "Epoch 949, change: 0.00017774\n",
      "Epoch 950, change: 0.00017771\n",
      "Epoch 951, change: 0.00017754\n",
      "Epoch 952, change: 0.00017732\n",
      "Epoch 953, change: 0.00017715\n",
      "Epoch 954, change: 0.00017716\n",
      "Epoch 955, change: 0.00017690\n",
      "Epoch 956, change: 0.00017666\n",
      "Epoch 957, change: 0.00017669\n",
      "Epoch 958, change: 0.00017628\n",
      "Epoch 959, change: 0.00017633\n",
      "Epoch 960, change: 0.00017625\n",
      "Epoch 961, change: 0.00017614\n",
      "Epoch 962, change: 0.00017606\n",
      "Epoch 963, change: 0.00017568\n",
      "Epoch 964, change: 0.00017578\n",
      "Epoch 965, change: 0.00017560\n",
      "Epoch 966, change: 0.00017508\n",
      "Epoch 967, change: 0.00017530\n",
      "Epoch 968, change: 0.00017498\n",
      "Epoch 969, change: 0.00017482\n",
      "Epoch 970, change: 0.00017476\n",
      "Epoch 971, change: 0.00017450\n",
      "Epoch 972, change: 0.00017444\n",
      "Epoch 973, change: 0.00017429\n",
      "Epoch 974, change: 0.00017413\n",
      "Epoch 975, change: 0.00017401\n",
      "Epoch 976, change: 0.00017379\n",
      "Epoch 977, change: 0.00017374\n",
      "Epoch 978, change: 0.00017368\n",
      "Epoch 979, change: 0.00017356\n",
      "Epoch 980, change: 0.00017352\n",
      "Epoch 981, change: 0.00017299\n",
      "Epoch 982, change: 0.00017309\n",
      "Epoch 983, change: 0.00017278\n",
      "Epoch 984, change: 0.00017273\n",
      "Epoch 985, change: 0.00017265\n",
      "Epoch 986, change: 0.00017272\n",
      "Epoch 987, change: 0.00017260\n",
      "Epoch 988, change: 0.00017260\n",
      "Epoch 989, change: 0.00017170\n",
      "Epoch 990, change: 0.00017192\n",
      "Epoch 991, change: 0.00017177\n",
      "Epoch 992, change: 0.00017161\n",
      "Epoch 993, change: 0.00017156\n",
      "Epoch 994, change: 0.00017131\n",
      "Epoch 995, change: 0.00017130\n",
      "Epoch 996, change: 0.00017129\n",
      "Epoch 997, change: 0.00017103\n",
      "Epoch 998, change: 0.00017076\n",
      "Epoch 999, change: 0.00017062\n",
      "Epoch 1000, change: 0.00017061\n",
      "RUNNING THE L-BFGS-B CODE\n",
      "\n",
      "           * * *\n",
      "\n",
      "Machine precision = 2.220D-16\n",
      " N =         7850     M =           10\n",
      "\n",
      "At X0         0 variables are exactly at the bounds\n",
      "\n",
      "At iterate    0    f=  2.30259D+02    |proj g|=  2.20880D+03\n",
      "\n",
      "At iterate   50    f=  2.40223D-03    |proj g|=  4.24506D-04\n",
      "\n",
      "           * * *\n",
      "\n",
      "Tit   = total number of iterations\n",
      "Tnf   = total number of function evaluations\n",
      "Tnint = total number of segments explored during Cauchy searches\n",
      "Skip  = number of BFGS updates skipped\n",
      "Nact  = number of active bounds at final generalized Cauchy point\n",
      "Projg = norm of the final projected gradient\n",
      "F     = final function value\n",
      "\n",
      "           * * *\n",
      "\n",
      "   N    Tit     Tnf  Tnint  Skip  Nact     Projg        F\n",
      " 7850     58     66      1     0     0   9.988D-05   2.401D-03\n",
      "  F =   2.4014254347873784E-003\n",
      "\n",
      "CONVERGENCE: NORM_OF_PROJECTED_GRADIENT_<=_PGTOL            \n"
     ]
    },
    {
     "name": "stderr",
     "output_type": "stream",
     "text": [
      "[Parallel(n_jobs=1)]: Done   1 out of   1 | elapsed:    0.7s finished\n"
     ]
    },
    {
     "data": {
      "text/plain": "LogisticRegression(max_iter=1000, verbose=1)",
      "text/html": "<style>#sk-container-id-12 {color: black;background-color: white;}#sk-container-id-12 pre{padding: 0;}#sk-container-id-12 div.sk-toggleable {background-color: white;}#sk-container-id-12 label.sk-toggleable__label {cursor: pointer;display: block;width: 100%;margin-bottom: 0;padding: 0.3em;box-sizing: border-box;text-align: center;}#sk-container-id-12 label.sk-toggleable__label-arrow:before {content: \"▸\";float: left;margin-right: 0.25em;color: #696969;}#sk-container-id-12 label.sk-toggleable__label-arrow:hover:before {color: black;}#sk-container-id-12 div.sk-estimator:hover label.sk-toggleable__label-arrow:before {color: black;}#sk-container-id-12 div.sk-toggleable__content {max-height: 0;max-width: 0;overflow: hidden;text-align: left;background-color: #f0f8ff;}#sk-container-id-12 div.sk-toggleable__content pre {margin: 0.2em;color: black;border-radius: 0.25em;background-color: #f0f8ff;}#sk-container-id-12 input.sk-toggleable__control:checked~div.sk-toggleable__content {max-height: 200px;max-width: 100%;overflow: auto;}#sk-container-id-12 input.sk-toggleable__control:checked~label.sk-toggleable__label-arrow:before {content: \"▾\";}#sk-container-id-12 div.sk-estimator input.sk-toggleable__control:checked~label.sk-toggleable__label {background-color: #d4ebff;}#sk-container-id-12 div.sk-label input.sk-toggleable__control:checked~label.sk-toggleable__label {background-color: #d4ebff;}#sk-container-id-12 input.sk-hidden--visually {border: 0;clip: rect(1px 1px 1px 1px);clip: rect(1px, 1px, 1px, 1px);height: 1px;margin: -1px;overflow: hidden;padding: 0;position: absolute;width: 1px;}#sk-container-id-12 div.sk-estimator {font-family: monospace;background-color: #f0f8ff;border: 1px dotted black;border-radius: 0.25em;box-sizing: border-box;margin-bottom: 0.5em;}#sk-container-id-12 div.sk-estimator:hover {background-color: #d4ebff;}#sk-container-id-12 div.sk-parallel-item::after {content: \"\";width: 100%;border-bottom: 1px solid gray;flex-grow: 1;}#sk-container-id-12 div.sk-label:hover label.sk-toggleable__label {background-color: #d4ebff;}#sk-container-id-12 div.sk-serial::before {content: \"\";position: absolute;border-left: 1px solid gray;box-sizing: border-box;top: 0;bottom: 0;left: 50%;z-index: 0;}#sk-container-id-12 div.sk-serial {display: flex;flex-direction: column;align-items: center;background-color: white;padding-right: 0.2em;padding-left: 0.2em;position: relative;}#sk-container-id-12 div.sk-item {position: relative;z-index: 1;}#sk-container-id-12 div.sk-parallel {display: flex;align-items: stretch;justify-content: center;background-color: white;position: relative;}#sk-container-id-12 div.sk-item::before, #sk-container-id-12 div.sk-parallel-item::before {content: \"\";position: absolute;border-left: 1px solid gray;box-sizing: border-box;top: 0;bottom: 0;left: 50%;z-index: -1;}#sk-container-id-12 div.sk-parallel-item {display: flex;flex-direction: column;z-index: 1;position: relative;background-color: white;}#sk-container-id-12 div.sk-parallel-item:first-child::after {align-self: flex-end;width: 50%;}#sk-container-id-12 div.sk-parallel-item:last-child::after {align-self: flex-start;width: 50%;}#sk-container-id-12 div.sk-parallel-item:only-child::after {width: 0;}#sk-container-id-12 div.sk-dashed-wrapped {border: 1px dashed gray;margin: 0 0.4em 0.5em 0.4em;box-sizing: border-box;padding-bottom: 0.4em;background-color: white;}#sk-container-id-12 div.sk-label label {font-family: monospace;font-weight: bold;display: inline-block;line-height: 1.2em;}#sk-container-id-12 div.sk-label-container {text-align: center;}#sk-container-id-12 div.sk-container {/* jupyter's `normalize.less` sets `[hidden] { display: none; }` but bootstrap.min.css set `[hidden] { display: none !important; }` so we also need the `!important` here to be able to override the default hidden behavior on the sphinx rendered scikit-learn.org. See: https://github.com/scikit-learn/scikit-learn/issues/21755 */display: inline-block !important;position: relative;}#sk-container-id-12 div.sk-text-repr-fallback {display: none;}</style><div id=\"sk-container-id-12\" class=\"sk-top-container\"><div class=\"sk-text-repr-fallback\"><pre>LogisticRegression(max_iter=1000, verbose=1)</pre><b>In a Jupyter environment, please rerun this cell to show the HTML representation or trust the notebook. <br />On GitHub, the HTML representation is unable to render, please try loading this page with nbviewer.org.</b></div><div class=\"sk-container\" hidden><div class=\"sk-item\"><div class=\"sk-estimator sk-toggleable\"><input class=\"sk-toggleable__control sk-hidden--visually\" id=\"sk-estimator-id-12\" type=\"checkbox\" checked><label for=\"sk-estimator-id-12\" class=\"sk-toggleable__label sk-toggleable__label-arrow\">LogisticRegression</label><div class=\"sk-toggleable__content\"><pre>LogisticRegression(max_iter=1000, verbose=1)</pre></div></div></div></div></div>"
     },
     "execution_count": 36,
     "metadata": {},
     "output_type": "execute_result"
    }
   ],
   "source": [
    "import sklearn\n",
    "from keras.datasets import mnist\n",
    "import numpy as np\n",
    "\n",
    "\n",
    "def sigmoid(x):\n",
    "    return 1 / (1 + np.exp(-x))\n",
    "\n",
    "trainSize = 100\n",
    "(train_X, train_y), (test_X, test_y) = mnist.load_data()\n",
    "train_X = train_X[:trainSize,:,:]\n",
    "train_y = train_y[:trainSize]\n",
    "test_X = test_X[:trainSize,:,:]\n",
    "test_y = test_y[:trainSize]\n",
    "# grad = np.zeros(len(theta))\n",
    "m, ux, uy = np.shape(train_X)\n",
    "n = ux * uy\n",
    "train_X = np.reshape(train_X, (m, n))\n",
    "# theta = np.zeros(10, n)\n",
    "\n",
    "from sklearn.linear_model import LogisticRegression\n",
    "from sklearn.preprocessing import StandardScaler\n",
    "min_max_scaler = sklearn.preprocessing.MinMaxScaler()\n",
    "#train_X = min_max_scaler.fit_transform(train_X)\n",
    "\n",
    "logisticRegr = LogisticRegression(verbose=1,max_iter=1000)\n",
    "logisticRegr.fit(train_X, train_y)"
   ]
  },
  {
   "cell_type": "code",
   "execution_count": 37,
   "outputs": [],
   "source": [
    "testNumber = 9\n",
    "testVec = np.reshape(test_X[testNumber], (1, n))\n",
    "# print(testVec)\n",
    "res = logisticRegr.predict(testVec)\n",
    "\n",
    "print(res,test_y[testNumber])\n",
    "import numpy as np\n",
    "import matplotlib.pyplot as plt\n",
    "plt.imshow(test_X[testNumber], cmap=plt.cm.gray)\n"
   ],
   "metadata": {
    "collapsed": false
   }
  },
  {
   "cell_type": "code",
   "execution_count": null,
   "outputs": [],
   "source": [],
   "metadata": {
    "collapsed": false,
    "pycharm": {
     "is_executing": true
    }
   }
  },
  {
   "cell_type": "code",
   "execution_count": null,
   "outputs": [],
   "source": [],
   "metadata": {
    "collapsed": false,
    "pycharm": {
     "is_executing": true
    }
   }
  },
  {
   "cell_type": "code",
   "execution_count": 37,
   "outputs": [],
   "source": [],
   "metadata": {
    "collapsed": false
   }
  }
 ],
 "metadata": {
  "kernelspec": {
   "display_name": "Python 3",
   "language": "python",
   "name": "python3"
  },
  "language_info": {
   "codemirror_mode": {
    "name": "ipython",
    "version": 2
   },
   "file_extension": ".py",
   "mimetype": "text/x-python",
   "name": "python",
   "nbconvert_exporter": "python",
   "pygments_lexer": "ipython2",
   "version": "2.7.6"
  }
 },
 "nbformat": 4,
 "nbformat_minor": 0
}
