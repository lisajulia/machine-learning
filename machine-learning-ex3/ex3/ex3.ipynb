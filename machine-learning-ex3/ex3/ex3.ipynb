{
 "cells": [
  {
   "cell_type": "code",
   "execution_count": 31,
   "metadata": {
    "collapsed": true
   },
   "outputs": [
    {
     "name": "stderr",
     "output_type": "stream",
     "text": [
      "[Parallel(n_jobs=1)]: Using backend SequentialBackend with 1 concurrent workers.\n",
      " This problem is unconstrained.\n"
     ]
    },
    {
     "name": "stdout",
     "output_type": "stream",
     "text": [
      "RUNNING THE L-BFGS-B CODE\n",
      "\n",
      "           * * *\n",
      "\n",
      "Machine precision = 2.220D-16\n",
      " N =         7850     M =           10\n",
      "\n",
      "At X0         0 variables are exactly at the bounds\n",
      "\n",
      "At iterate    0    f=  1.15129D+04    |proj g|=  8.18978D+04\n",
      "\n",
      "At iterate   50    f=  2.78608D+02    |proj g|=  2.07325D+03\n",
      "\n",
      "At iterate  100    f=  8.76190D-01    |proj g|=  8.21100D+00\n",
      "\n",
      "At iterate  150    f=  5.16570D-01    |proj g|=  7.44011D-01\n",
      "\n",
      "At iterate  200    f=  4.15581D-01    |proj g|=  5.11785D-01\n",
      "\n",
      "At iterate  250    f=  3.72066D-01    |proj g|=  2.45040D-01\n",
      "\n",
      "At iterate  300    f=  3.50749D-01    |proj g|=  2.02527D-01\n",
      "\n",
      "At iterate  350    f=  3.41704D-01    |proj g|=  1.05350D-01\n",
      "\n",
      "At iterate  400    f=  3.36845D-01    |proj g|=  1.05547D-01\n",
      "\n",
      "At iterate  450    f=  3.34548D-01    |proj g|=  7.37255D-02\n",
      "\n",
      "At iterate  500    f=  3.33624D-01    |proj g|=  2.85090D-02\n",
      "\n",
      "At iterate  550    f=  3.33162D-01    |proj g|=  9.51795D-02\n",
      "\n",
      "At iterate  600    f=  3.32946D-01    |proj g|=  4.23239D-02\n",
      "\n",
      "At iterate  650    f=  3.32852D-01    |proj g|=  1.51124D-02\n",
      "\n",
      "At iterate  700    f=  3.32804D-01    |proj g|=  8.68236D-03\n",
      "\n",
      "At iterate  750    f=  3.32782D-01    |proj g|=  4.70810D-03\n",
      "\n",
      "At iterate  800    f=  3.32771D-01    |proj g|=  2.42514D-03\n",
      "\n",
      "At iterate  850    f=  3.32766D-01    |proj g|=  1.79183D-03\n",
      "\n",
      "At iterate  900    f=  3.32764D-01    |proj g|=  2.77871D-03\n",
      "\n",
      "At iterate  950    f=  3.32763D-01    |proj g|=  1.85132D-03\n",
      "\n",
      "At iterate 1000    f=  3.32761D-01    |proj g|=  1.51345D-03\n",
      "\n",
      "At iterate 1050    f=  3.32758D-01    |proj g|=  3.30130D-03\n",
      "\n",
      "At iterate 1100    f=  3.32753D-01    |proj g|=  1.32507D-02\n",
      "\n",
      "At iterate 1150    f=  3.32743D-01    |proj g|=  6.72870D-03\n",
      "\n",
      "At iterate 1200    f=  3.32723D-01    |proj g|=  6.78192D-03\n",
      "\n",
      "At iterate 1250    f=  3.32669D-01    |proj g|=  1.08044D-02\n",
      "\n",
      "At iterate 1300    f=  3.32546D-01    |proj g|=  1.50639D-02\n",
      "\n",
      "At iterate 1350    f=  3.32278D-01    |proj g|=  2.55685D-02\n",
      "\n",
      "At iterate 1400    f=  3.31673D-01    |proj g|=  3.57416D-02\n",
      "\n",
      "At iterate 1450    f=  3.30634D-01    |proj g|=  1.04397D-01\n",
      "\n",
      "At iterate 1500    f=  3.28808D-01    |proj g|=  6.23517D-02\n",
      "\n",
      "At iterate 1550    f=  3.25747D-01    |proj g|=  8.03137D-02\n",
      "\n",
      "At iterate 1600    f=  3.22233D-01    |proj g|=  4.72264D-02\n",
      "\n",
      "At iterate 1650    f=  3.18990D-01    |proj g|=  1.33045D-01\n",
      "\n",
      "At iterate 1700    f=  3.16143D-01    |proj g|=  4.36803D-02\n",
      "\n",
      "At iterate 1750    f=  3.14277D-01    |proj g|=  8.19878D-02\n",
      "\n",
      "At iterate 1800    f=  3.13169D-01    |proj g|=  2.82866D-02\n",
      "\n",
      "At iterate 1850    f=  3.12576D-01    |proj g|=  6.28560D-02\n",
      "\n",
      "At iterate 1900    f=  3.12207D-01    |proj g|=  3.38567D-02\n",
      "\n",
      "At iterate 1950    f=  3.11986D-01    |proj g|=  1.96889D-02\n",
      "\n",
      "At iterate 2000    f=  3.11871D-01    |proj g|=  1.42581D-02\n",
      "\n",
      "At iterate 2050    f=  3.11800D-01    |proj g|=  1.02910D-02\n",
      "\n",
      "At iterate 2100    f=  3.11764D-01    |proj g|=  6.16522D-03\n",
      "\n",
      "At iterate 2150    f=  3.11743D-01    |proj g|=  3.97728D-03\n",
      "\n",
      "At iterate 2200    f=  3.11732D-01    |proj g|=  4.07466D-03\n",
      "\n",
      "At iterate 2250    f=  3.11725D-01    |proj g|=  3.18908D-03\n",
      "\n",
      "At iterate 2300    f=  3.11722D-01    |proj g|=  2.41520D-03\n",
      "\n",
      "At iterate 2350    f=  3.11720D-01    |proj g|=  2.48086D-03\n",
      "\n",
      "At iterate 2400    f=  3.11719D-01    |proj g|=  2.47293D-03\n",
      "\n",
      "           * * *\n",
      "\n",
      "Tit   = total number of iterations\n",
      "Tnf   = total number of function evaluations\n",
      "Tnint = total number of segments explored during Cauchy searches\n",
      "Skip  = number of BFGS updates skipped\n",
      "Nact  = number of active bounds at final generalized Cauchy point\n",
      "Projg = norm of the final projected gradient\n",
      "F     = final function value\n",
      "\n",
      "           * * *\n",
      "\n",
      "   N    Tit     Tnf  Tnint  Skip  Nact     Projg        F\n",
      " 7850   2437   2590      1     0     0   3.602D-03   3.117D-01\n",
      "  F =  0.31171882396801537     \n",
      "\n",
      "CONVERGENCE: REL_REDUCTION_OF_F_<=_FACTR*EPSMCH             \n"
     ]
    },
    {
     "name": "stderr",
     "output_type": "stream",
     "text": [
      "[Parallel(n_jobs=1)]: Done   1 out of   1 | elapsed:  1.1min finished\n"
     ]
    },
    {
     "data": {
      "text/plain": "LogisticRegression(max_iter=10000, verbose=1)",
      "text/html": "<style>#sk-container-id-6 {color: black;background-color: white;}#sk-container-id-6 pre{padding: 0;}#sk-container-id-6 div.sk-toggleable {background-color: white;}#sk-container-id-6 label.sk-toggleable__label {cursor: pointer;display: block;width: 100%;margin-bottom: 0;padding: 0.3em;box-sizing: border-box;text-align: center;}#sk-container-id-6 label.sk-toggleable__label-arrow:before {content: \"▸\";float: left;margin-right: 0.25em;color: #696969;}#sk-container-id-6 label.sk-toggleable__label-arrow:hover:before {color: black;}#sk-container-id-6 div.sk-estimator:hover label.sk-toggleable__label-arrow:before {color: black;}#sk-container-id-6 div.sk-toggleable__content {max-height: 0;max-width: 0;overflow: hidden;text-align: left;background-color: #f0f8ff;}#sk-container-id-6 div.sk-toggleable__content pre {margin: 0.2em;color: black;border-radius: 0.25em;background-color: #f0f8ff;}#sk-container-id-6 input.sk-toggleable__control:checked~div.sk-toggleable__content {max-height: 200px;max-width: 100%;overflow: auto;}#sk-container-id-6 input.sk-toggleable__control:checked~label.sk-toggleable__label-arrow:before {content: \"▾\";}#sk-container-id-6 div.sk-estimator input.sk-toggleable__control:checked~label.sk-toggleable__label {background-color: #d4ebff;}#sk-container-id-6 div.sk-label input.sk-toggleable__control:checked~label.sk-toggleable__label {background-color: #d4ebff;}#sk-container-id-6 input.sk-hidden--visually {border: 0;clip: rect(1px 1px 1px 1px);clip: rect(1px, 1px, 1px, 1px);height: 1px;margin: -1px;overflow: hidden;padding: 0;position: absolute;width: 1px;}#sk-container-id-6 div.sk-estimator {font-family: monospace;background-color: #f0f8ff;border: 1px dotted black;border-radius: 0.25em;box-sizing: border-box;margin-bottom: 0.5em;}#sk-container-id-6 div.sk-estimator:hover {background-color: #d4ebff;}#sk-container-id-6 div.sk-parallel-item::after {content: \"\";width: 100%;border-bottom: 1px solid gray;flex-grow: 1;}#sk-container-id-6 div.sk-label:hover label.sk-toggleable__label {background-color: #d4ebff;}#sk-container-id-6 div.sk-serial::before {content: \"\";position: absolute;border-left: 1px solid gray;box-sizing: border-box;top: 0;bottom: 0;left: 50%;z-index: 0;}#sk-container-id-6 div.sk-serial {display: flex;flex-direction: column;align-items: center;background-color: white;padding-right: 0.2em;padding-left: 0.2em;position: relative;}#sk-container-id-6 div.sk-item {position: relative;z-index: 1;}#sk-container-id-6 div.sk-parallel {display: flex;align-items: stretch;justify-content: center;background-color: white;position: relative;}#sk-container-id-6 div.sk-item::before, #sk-container-id-6 div.sk-parallel-item::before {content: \"\";position: absolute;border-left: 1px solid gray;box-sizing: border-box;top: 0;bottom: 0;left: 50%;z-index: -1;}#sk-container-id-6 div.sk-parallel-item {display: flex;flex-direction: column;z-index: 1;position: relative;background-color: white;}#sk-container-id-6 div.sk-parallel-item:first-child::after {align-self: flex-end;width: 50%;}#sk-container-id-6 div.sk-parallel-item:last-child::after {align-self: flex-start;width: 50%;}#sk-container-id-6 div.sk-parallel-item:only-child::after {width: 0;}#sk-container-id-6 div.sk-dashed-wrapped {border: 1px dashed gray;margin: 0 0.4em 0.5em 0.4em;box-sizing: border-box;padding-bottom: 0.4em;background-color: white;}#sk-container-id-6 div.sk-label label {font-family: monospace;font-weight: bold;display: inline-block;line-height: 1.2em;}#sk-container-id-6 div.sk-label-container {text-align: center;}#sk-container-id-6 div.sk-container {/* jupyter's `normalize.less` sets `[hidden] { display: none; }` but bootstrap.min.css set `[hidden] { display: none !important; }` so we also need the `!important` here to be able to override the default hidden behavior on the sphinx rendered scikit-learn.org. See: https://github.com/scikit-learn/scikit-learn/issues/21755 */display: inline-block !important;position: relative;}#sk-container-id-6 div.sk-text-repr-fallback {display: none;}</style><div id=\"sk-container-id-6\" class=\"sk-top-container\"><div class=\"sk-text-repr-fallback\"><pre>LogisticRegression(max_iter=10000, verbose=1)</pre><b>In a Jupyter environment, please rerun this cell to show the HTML representation or trust the notebook. <br />On GitHub, the HTML representation is unable to render, please try loading this page with nbviewer.org.</b></div><div class=\"sk-container\" hidden><div class=\"sk-item\"><div class=\"sk-estimator sk-toggleable\"><input class=\"sk-toggleable__control sk-hidden--visually\" id=\"sk-estimator-id-6\" type=\"checkbox\" checked><label for=\"sk-estimator-id-6\" class=\"sk-toggleable__label sk-toggleable__label-arrow\">LogisticRegression</label><div class=\"sk-toggleable__content\"><pre>LogisticRegression(max_iter=10000, verbose=1)</pre></div></div></div></div></div>"
     },
     "execution_count": 31,
     "metadata": {},
     "output_type": "execute_result"
    }
   ],
   "source": [
    "from sklearn.linear_model import LogisticRegression\n",
    "from keras.datasets import mnist\n",
    "import numpy as np\n",
    "\n",
    "trainSize = 5000\n",
    "(train_X, train_y), (test_X, test_y) = mnist.load_data()\n",
    "train_X = train_X[:trainSize,:,:]\n",
    "train_y = train_y[:trainSize]\n",
    "test_X = test_X[:trainSize,:,:]\n",
    "test_y = test_y[:trainSize]\n",
    "m, pixelx, pixely = np.shape(train_X)\n",
    "n = pixelx * pixely\n",
    "train_X = np.reshape(train_X, (m, n))\n",
    "\n",
    "logisticRegr = LogisticRegression(verbose=1,max_iter=10000)\n",
    "logisticRegr.fit(train_X, train_y)"
   ]
  },
  {
   "cell_type": "code",
   "execution_count": 41,
   "outputs": [
    {
     "name": "stdout",
     "output_type": "stream",
     "text": [
      "Prediction: 2, Actual: 2\n"
     ]
    },
    {
     "data": {
      "text/plain": "<matplotlib.image.AxesImage at 0x7fdbb0564f10>"
     },
     "execution_count": 41,
     "metadata": {},
     "output_type": "execute_result"
    },
    {
     "data": {
      "text/plain": "<Figure size 640x480 with 1 Axes>",
      "image/png": "[encoded data removed]"
     },
     "metadata": {},
     "output_type": "display_data"
    }
   ],
   "source": [
    "testNumber = 256\n",
    "testVec = np.reshape(test_X[testNumber], (1, n))\n",
    "res = logisticRegr.predict(testVec)\n",
    "\n",
    "print(\"Prediction: {}, Actual: {}\".format(res[0],test_y[testNumber]))\n",
    "import matplotlib.pyplot as plt\n",
    "plt.imshow(test_X[testNumber], cmap=plt.cm.gray)"
   ],
   "metadata": {
    "collapsed": false
   }
  },
  {
   "cell_type": "code",
   "execution_count": 47,
   "outputs": [
    {
     "name": "stdout",
     "output_type": "stream",
     "text": [
      "Prediction: 9\n"
     ]
    },
    {
     "data": {
      "text/plain": "<matplotlib.image.AxesImage at 0x7fdbb0216740>"
     },
     "execution_count": 47,
     "metadata": {},
     "output_type": "execute_result"
    },
    {
     "data": {
      "text/plain": "<Figure size 640x480 with 1 Axes>",
      "image/png": "[encoded data removed]"
     },
     "metadata": {},
     "output_type": "display_data"
    }
   ],
   "source": [
    "from PIL import Image\n",
    "img = Image.open('seven_us.png').convert('L')\n",
    "# img = Image.open('seven_eu.png').convert('L')\n",
    "# img = Image.open('one_us.png').convert('L')\n",
    "# img = Image.open('one_eu.png').convert('L')\n",
    "# img = Image.open('heart.png').convert('L')\n",
    "# img = Image.open('smiley.png').convert('L')\n",
    "# img = Image.open('snow.png').convert('L')\n",
    "imageMat = 255-np.matrix(img)\n",
    "image = np.asarray(np.reshape(imageMat, (1, n)))\n",
    "res2 = logisticRegr.predict(image)\n",
    "print(\"Prediction: {}\".format(res2[0]))\n",
    "import matplotlib.pyplot as plt\n",
    "plt.imshow(imageMat, cmap=plt.cm.gray)"
   ],
   "metadata": {
    "collapsed": false
   }
  },
  {
   "cell_type": "code",
   "execution_count": 15,
   "outputs": [
    {
     "data": {
      "text/plain": "<matplotlib.image.AxesImage at 0x7fdbb1c06440>"
     },
     "execution_count": 15,
     "metadata": {},
     "output_type": "execute_result"
    },
    {
     "data": {
      "text/plain": "<Figure size 640x480 with 1 Axes>",
      "image/png": "[encoded data removed]"
     },
     "metadata": {},
     "output_type": "display_data"
    }
   ],
   "source": [],
   "metadata": {
    "collapsed": false
   }
  },
  {
   "cell_type": "code",
   "execution_count": 8,
   "outputs": [],
   "source": [],
   "metadata": {
    "collapsed": false
   }
  }
 ],
 "metadata": {
  "kernelspec": {
   "display_name": "Python 3",
   "language": "python",
   "name": "python3"
  },
  "language_info": {
   "codemirror_mode": {
    "name": "ipython",
    "version": 2
   },
   "file_extension": ".py",
   "mimetype": "text/x-python",
   "name": "python",
   "nbconvert_exporter": "python",
   "pygments_lexer": "ipython2",
   "version": "2.7.6"
  }
 },
 "nbformat": 4,
 "nbformat_minor": 0
}
