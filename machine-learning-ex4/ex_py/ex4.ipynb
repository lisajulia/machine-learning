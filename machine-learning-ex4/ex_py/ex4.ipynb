{
 "cells": [
  {
   "cell_type": "code",
   "execution_count": 31,
   "metadata": {
    "collapsed": true
   },
   "outputs": [
    {
     "name": "stdout",
     "output_type": "stream",
     "text": [
      "Epoch 1/5\n",
      "4/4 [==============================] - 1s 4ms/step - loss: 1.8772 - accuracy: 0.0900\n",
      "Epoch 2/5\n",
      "4/4 [==============================] - 0s 4ms/step - loss: 1.5840 - accuracy: 0.0800\n",
      "Epoch 3/5\n",
      "4/4 [==============================] - 0s 4ms/step - loss: 1.4695 - accuracy: 0.0800\n",
      "Epoch 4/5\n",
      "4/4 [==============================] - 0s 4ms/step - loss: 1.4178 - accuracy: 0.0800\n",
      "Epoch 5/5\n",
      "4/4 [==============================] - 0s 3ms/step - loss: 1.3994 - accuracy: 0.1000\n",
      "4/4 - 0s - loss: 1.3885 - accuracy: 0.0800 - 132ms/epoch - 33ms/step\n",
      "4/4 - 0s - loss: 1.3491 - accuracy: 0.0200 - 139ms/epoch - 35ms/step\n"
     ]
    },
    {
     "data": {
      "text/plain": [
       "[1.349076271057129, 0.019999999552965164]"
      ]
     },
     "execution_count": 31,
     "metadata": {},
     "output_type": "execute_result"
    }
   ],
   "source": [
    "import sklearn\n",
    "from keras.datasets import mnist\n",
    "import numpy as np\n",
    "import tensorflow as tf\n",
    "\n",
    "\n",
    "trainSize = 100\n",
    "(train_X, train_y), (test_X, test_y) = mnist.load_data()\n",
    "train_X = train_X[:trainSize,:,:]\n",
    "train_y = train_y[:trainSize]\n",
    "test_X = test_X[:trainSize,:,:]\n",
    "test_y = test_y[:trainSize]\n",
    "\n",
    "ux= 28\n",
    "uy =28\n",
    "\n",
    "test_X= np.reshape(test_X,(trainSize,ux*uy))\n",
    "\n",
    "model = tf.keras.models.Sequential([\n",
    "  tf.keras.layers.Flatten(input_shape=(ux, uy)),\n",
    "  tf.keras.layers.Dense(128, activation='sigmoid'), tf.keras.layers.Dropout(0.2),\n",
    "  tf.keras.layers.Dense(128, activation='sigmoid'),\n",
    "  tf.keras.layers.Dense(128, activation='sigmoid'),\n",
    "  tf.keras.layers.Dense(128, activation='sigmoid'), tf.keras.layers.Dropout(0.2),\n",
    "  tf.keras.layers.Dense(128, activation='sigmoid'),\n",
    "  tf.keras.layers.Dense(10)\n",
    "])\n",
    "\n",
    "# loss_fn = tf.keras.losses.SparseCategoricalCrossentropy(from_logits=True)\n",
    "loss_fn = tf.keras.losses.MeanSquaredLogarithmicError()\n",
    "# class Custom_CE_Loss(tf.keras.losses.Loss):\n",
    "#     def __init__(self):\n",
    "#         super().__init__()\n",
    "#     def call(self, y_true, y_pred):\n",
    "#         log_y_pred = tf.math.log(y_pred)\n",
    "#         elements = -tf.math.multiply_no_nan(x=log_y_pred, y=y_true)\n",
    "#         return tf.reduce_mean(tf.reduce_sum(elements,axis=1))\n",
    "# loss_fn = Custom_CE_Loss()\n",
    "#\n",
    "# def loss_fnL(y_true,y_pred):\n",
    "#     return tf.reduce_mean(tf.square(y_true-y_pred))\n",
    "\n",
    "\n",
    "\n",
    "model.compile(optimizer='adam',\n",
    "              loss=loss_fn,\n",
    "              metrics=['accuracy'])\n",
    "\n",
    "model.fit(train_X, train_y, epochs=5)\n",
    "\n",
    "model.evaluate(train_X,  train_y, verbose=2)\n",
    "model.evaluate(test_X,  test_y, verbose=2)\n",
    "\n"
   ]
  },
  {
   "cell_type": "code",
   "execution_count": 18,
   "metadata": {},
   "outputs": [],
   "source": [
    "\n",
    "probability_model = tf.keras.Sequential([\n",
    "  model,\n",
    "  tf.keras.layers.Softmax()\n",
    "])"
   ]
  },
  {
   "cell_type": "code",
   "execution_count": 21,
   "metadata": {},
   "outputs": [
    {
     "name": "stdout",
     "output_type": "stream",
     "text": [
      "tf.Tensor([[0. 0. 0. 1. 0. 0. 0. 0. 0. 0.]], shape=(1, 10), dtype=float32)\n"
     ]
    },
    {
     "data": {
      "text/plain": [
       "<matplotlib.image.AxesImage at 0x7f8418a95390>"
      ]
     },
     "execution_count": 21,
     "metadata": {},
     "output_type": "execute_result"
    },
    {
     "data": {
      "image/png": "[encoded data removed]",
      "text/plain": [
       "<Figure size 640x480 with 1 Axes>"
      ]
     },
     "metadata": {},
     "output_type": "display_data"
    }
   ],
   "source": [
    "testNumber=7\n",
    "testVec = np.reshape(train_X[testNumber], (1, 28,28))\n",
    "print(probability_model(testVec))\n",
    "import matplotlib.pyplot as plt\n",
    "plt.imshow(testVec[0], cmap=plt.cm.gray)"
   ]
  },
  {
   "cell_type": "code",
   "execution_count": null,
   "metadata": {},
   "outputs": [],
   "source": []
  }
 ],
 "metadata": {
  "kernelspec": {
   "display_name": "Python 3 (ipykernel)",
   "language": "python",
   "name": "python3"
  },
  "language_info": {
   "codemirror_mode": {
    "name": "ipython",
    "version": 3
   },
   "file_extension": ".py",
   "mimetype": "text/x-python",
   "name": "python",
   "nbconvert_exporter": "python",
   "pygments_lexer": "ipython3",
   "version": "3.10.9"
  }
 },
 "nbformat": 4,
 "nbformat_minor": 1
}
