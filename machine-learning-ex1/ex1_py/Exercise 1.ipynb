{
 "cells": [
  {
   "cell_type": "code",
   "execution_count": null,
   "id": "4531bf8a",
   "metadata": {},
   "outputs": [],
   "source": [
    "import pandas as pd\n",
    "import numpy as np\n",
    "import matplotlib.pyplot as plt\n",
    "#%matplotlib auto\n",
    "from mpl_toolkits.mplot3d import Axes3D"
   ]
  },
  {
   "cell_type": "code",
   "execution_count": null,
   "id": "24120ffd",
   "metadata": {},
   "outputs": [],
   "source": [
    "# Read the data from the text file to a pandas  data frame\n",
    "df = pd.read_csv('ex1data1.txt', header=None)\n",
    "\n",
    "# Convert the dataframe into a numpy array(a format that numpy understands\n",
    "data = df.to_numpy()"
   ]
  },
  {
   "cell_type": "code",
   "execution_count": null,
   "id": "cb8a6371",
   "metadata": {},
   "outputs": [],
   "source": [
    "x = data[:,0]\n",
    "y = data[:,1]\n",
    "print(np.shape(y))"
   ]
  },
  {
   "cell_type": "code",
   "execution_count": null,
   "id": "8d5b61f1",
   "metadata": {},
   "outputs": [],
   "source": [
    "# Fit linear regression model\n",
    "coefficients = np.polyfit(x, y, 1)\n",
    "print(coefficients)\n",
    "\n",
    "# Plot data points\n",
    "plt.scatter(x, y)\n",
    "\n",
    "# Plot fitted line\n",
    "x_values = np.linspace(min(x), max(x), num=100)\n",
    "y_values = coefficients[0] * x_values + coefficients[1]\n",
    "plt.plot(x_values, y_values)\n",
    "\n",
    "# Show plot\n",
    "plt.show()\n"
   ]
  },
  {
   "cell_type": "code",
   "execution_count": null,
   "id": "6f42c1c0",
   "metadata": {},
   "outputs": [],
   "source": [
    "# cost function and hypothesis\n",
    "def J(x,y,theta):\n",
    "    h = np.zeros(len(x))\n",
    "    for i,theta_i in enumerate(reversed(theta)):\n",
    "        h = h + theta_i*(np.power(x,i))\n",
    "    difference = np.power(y-h,2)\n",
    "    return 0.5*np.mean(difference)"
   ]
  },
  {
   "cell_type": "code",
   "execution_count": null,
   "id": "77da174e",
   "metadata": {},
   "outputs": [],
   "source": [
    "print(J(x,y,coefficients))"
   ]
  },
  {
   "cell_type": "code",
   "execution_count": null,
   "id": "1ef440ba",
   "metadata": {},
   "outputs": [],
   "source": [
    "a = 100\n",
    "b = 100\n",
    "theta0vals = np.linspace(-1,4,num=a)\n",
    "theta1vals = np.linspace(-10,10,num=b)\n",
    "meshtheta0,meshtheta1 = np.meshgrid(theta0vals,theta1vals)\n",
    "Jvalues = np.zeros((a,b))\n",
    "for i in range(a):\n",
    "    for j in range(b):\n",
    "        Jvalues[i,j] = J(x,y,[meshtheta0[i,j],meshtheta1[i,j]])"
   ]
  },
  {
   "cell_type": "code",
   "execution_count": null,
   "id": "4e85f14b",
   "metadata": {},
   "outputs": [],
   "source": [
    "fig = plt.figure()\n",
    "ax = fig.add_subplot(1,1,1,projection=\"3d\")\n",
    "ax.plot_surface(meshtheta0,meshtheta1,Jvalues)\n",
    "figcontour = plt.figure()\n",
    "plt.contour(meshtheta0,meshtheta1,Jvalues,100)\n",
    "plt.show()"
   ]
  }
 ],
 "metadata": {
  "kernelspec": {
   "display_name": "Python 3 (ipykernel)",
   "language": "python",
   "name": "python3"
  },
  "language_info": {
   "codemirror_mode": {
    "name": "ipython",
    "version": 3
   },
   "file_extension": ".py",
   "mimetype": "text/x-python",
   "name": "python",
   "nbconvert_exporter": "python",
   "pygments_lexer": "ipython3",
   "version": "3.10.6"
  }
 },
 "nbformat": 4,
 "nbformat_minor": 5
}
