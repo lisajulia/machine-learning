{
 "cells": [
  {
   "cell_type": "code",
   "execution_count": 1,
   "id": "cb6d7e6e",
   "metadata": {},
   "outputs": [],
   "source": [
    "import pandas as pd\n",
    "import numpy as np\n",
    "import matplotlib.pyplot as plt\n",
    "#%matplotlib auto\n",
    "from mpl_toolkits.mplot3d import Axes3D\n",
    "\n",
    "# Read the data from the text file to a pandas  data frame\n",
    "df = pd.read_csv('ex1data2.txt', header=None)\n",
    "\n",
    "rawData = df.to_numpy()"
   ]
  },
  {
   "cell_type": "code",
   "execution_count": 2,
   "id": "7ec1d7ab",
   "metadata": {},
   "outputs": [
    {
     "name": "stdout",
     "output_type": "stream",
     "text": [
      "[  139.21067402 -8738.01911233 89597.9095428 ]\n"
     ]
    }
   ],
   "source": [
    "dataMean = np.mean(rawData,axis=0)\n",
    "dataStd = np.std(rawData,axis=0)\n",
    "X = np.hstack((rawData[:,:2],np.ones((rawData.shape[0],1))))\n",
    "y = rawData[:,2]\n",
    "theta = np.linalg.solve(np.transpose(X)@X,np.transpose(X)@y)\n",
    "print(theta)"
   ]
  },
  {
   "cell_type": "code",
   "execution_count": 3,
   "id": "e6684ca5",
   "metadata": {},
   "outputs": [
    {
     "name": "stdout",
     "output_type": "stream",
     "text": [
      "293081.46433489607\n"
     ]
    }
   ],
   "source": [
    "price = theta[0]*1650 + theta[1]*3 + theta[2]\n",
    "print(price)"
   ]
  },
  {
   "cell_type": "code",
   "execution_count": 4,
   "id": "d91981b0",
   "metadata": {},
   "outputs": [
    {
     "name": "stdout",
     "output_type": "stream",
     "text": [
      "[0.54990584 0.173258  ]\n",
      "305224.9031431796\n"
     ]
    }
   ],
   "source": [
    "# Check if normalization returns the same thing\n",
    "dataNormalized = df.to_numpy()\n",
    "for i in range(3):\n",
    "    dataNormalized[:,i] = [(x - dataMean[i]) / dataStd[i] for x in rawData[:,i]]\n",
    "XNormalized = dataNormalized[:,:2]\n",
    "yNormalized = dataNormalized[:,2]\n",
    "thetaNormalized = np.linalg.solve(np.transpose(XNormalized)@XNormalized,np.transpose(XNormalized)@y)\n",
    "print(thetaNormalized)\n",
    "\n",
    "priceNormalized = thetaNormalized[0]*(1650-dataMean[0])/dataStd[0] + thetaNormalized[1]*(3 - dataMean[1])/dataStd[1]\n",
    "priceN = priceNormalized*dataStd[2] + dataMean[2]\n",
    "print(priceN)"
   ]
  },
  {
   "cell_type": "code",
   "execution_count": null,
   "id": "b2afff49",
   "metadata": {},
   "outputs": [],
   "source": []
  }
 ],
 "metadata": {
  "kernelspec": {
   "display_name": "Python 3 (ipykernel)",
   "language": "python",
   "name": "python3"
  },
  "language_info": {
   "codemirror_mode": {
    "name": "ipython",
    "version": 3
   },
   "file_extension": ".py",
   "mimetype": "text/x-python",
   "name": "python",
   "nbconvert_exporter": "python",
   "pygments_lexer": "ipython3",
   "version": "3.10.6"
  }
 },
 "nbformat": 4,
 "nbformat_minor": 5
}
